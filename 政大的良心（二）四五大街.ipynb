{
 "cells": [
  {
   "cell_type": "markdown",
   "metadata": {},
   "source": [
    "# 政大的良心（二）四五大街\n"
   ]
  },
  {
   "cell_type": "markdown",
   "metadata": {},
   "source": [
    "Description\n",
    "\n",
    "這名字並不是隨便取的，沒錯，跟五四運動一點關係都沒有，CP值大概也就四五而已，滿分十分啦。\n",
    "\n",
    "裡頭最淘氣的就是上菜姊姊（相信去過的人都知道）他想考驗一下大家是不是都有專心上課～\n",
    "\n",
    "要是沒答對的話⋯⋯他可能就不把芙蓉蛋蓋飯給你⋯⋯\n",
    "\n",
    "首先，如果除數為0，就印出Cannot divide by 0!\n",
    "\n",
    "再來，如果input有小數的存在，就印出print(\"Wrong input\")\n",
    "\n",
    "最後，如果上面的條件都沒有出現，將除出的數字轉成str印出\n",
    "\n",
    "並印出Program finished\n",
    "\n",
    "\n",
    "Input\n",
    "\n",
    "input有兩行。\n",
    "\n",
    "第一行為被除數，第二行是除數。\n",
    "\n",
    "\n",
    "Output\n",
    "\n",
    "兩行，第一行為description所提示的內容，不同條件要印出不同字串。\n",
    "\n",
    "第二行為Program finished。"
   ]
  },
  {
   "cell_type": "code",
   "execution_count": 1,
   "metadata": {},
   "outputs": [
    {
     "name": "stdout",
     "output_type": "stream",
     "text": [
      "1\n",
      "3\n",
      "The answer is 0.3333333333333333\n",
      "Program finished\n"
     ]
    }
   ],
   "source": [
    "a = float(input())\n",
    "b = float(input())\n",
    "try: \n",
    "    if a!=int(a) or b!=int(b):\n",
    "        print(\"Wrong input\")\n",
    "    else:\n",
    "        print(\"The answer is\",str(a/b))\n",
    "except ZeroDivisionError:\n",
    "    print('Cannot divide by 0!')\n",
    "    \n",
    "print(\"Program finished\")"
   ]
  },
  {
   "cell_type": "code",
   "execution_count": null,
   "metadata": {},
   "outputs": [],
   "source": []
  }
 ],
 "metadata": {
  "kernelspec": {
   "display_name": "Python 3",
   "language": "python",
   "name": "python3"
  },
  "language_info": {
   "codemirror_mode": {
    "name": "ipython",
    "version": 3
   },
   "file_extension": ".py",
   "mimetype": "text/x-python",
   "name": "python",
   "nbconvert_exporter": "python",
   "pygments_lexer": "ipython3",
   "version": "3.6.7"
  }
 },
 "nbformat": 4,
 "nbformat_minor": 2
}
