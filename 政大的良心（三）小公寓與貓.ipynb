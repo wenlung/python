{
 "cells": [
  {
   "cell_type": "markdown",
   "metadata": {},
   "source": [
    "# 政大的良心（三）小公寓與貓"
   ]
  },
  {
   "cell_type": "markdown",
   "metadata": {},
   "source": [
    "Description\n",
    "\n",
    "政大空氣最好的地方當屬小公寓莫屬，有貓的加持，整個環境都慵懶了起來。\n",
    "\n",
    "但能被主子臨幸，摸摸他們的機會可不是人人都有⋯⋯\n",
    "\n",
    "若是能說些貓咪聽得懂的語言，他們願意親近你的機率就越高哦～\n",
    "\n",
    "貓咪的語言比較特別，他們單字中的母音排序跟人類是相反的\n",
    "\n",
    "一起來翻譯貓咪語吧～\n",
    "\n",
    "此題請使用函式撰寫（至少要有一個函式呼叫）\n",
    "\n",
    "助教會檢查，要是沒有用到函式此題不計分。\n",
    "\n",
    "\n",
    "Input\n",
    "\n",
    "為行數不限之字串。\n",
    "\n",
    "\n",
    "Output\n",
    "\n",
    "與input行數相同的「子音不動，但母音順序顛倒」的字串。\n",
    "\n",
    "\n"
   ]
  },
  {
   "cell_type": "code",
   "execution_count": 3,
   "metadata": {},
   "outputs": [
    {
     "name": "stdout",
     "output_type": "stream",
     "text": [
      "aeiou\n",
      "uoiea\n",
      "james\n",
      "jemas\n",
      "system\n",
      "system\n",
      "\n"
     ]
    }
   ],
   "source": [
    "try:\n",
    "    while True:\n",
    "        word = input()\n",
    "        if word=='':\n",
    "            break\n",
    "        def find_inverse(word):\n",
    "            re_vowel=[]\n",
    "            for i in word:\n",
    "                if i in 'aeoiu':\n",
    "                    re_vowel.append(i)\n",
    "            re_vowel=re_vowel[::-1]\n",
    "            return re_vowel\n",
    "\n",
    "        re_vowel=find_inverse(word)\n",
    "\n",
    "        def remark_word(re_vowel,word):\n",
    "            s=[]\n",
    "            count=0\n",
    "            for j in word:\n",
    "                count+=1\n",
    "                if j in 'aeiou':\n",
    "                    s.append(count-1)\n",
    "            word=list(word)\n",
    "            for i in range(0,len(s)):\n",
    "                word[s[i]]=re_vowel[i]\n",
    "            return ''.join(word)\n",
    "        new_word = remark_word(re_vowel,word)\n",
    "        print(new_word)\n",
    "except EOFError:\n",
    "    pass"
   ]
  },
  {
   "cell_type": "code",
   "execution_count": null,
   "metadata": {},
   "outputs": [],
   "source": []
  }
 ],
 "metadata": {
  "kernelspec": {
   "display_name": "Python 3",
   "language": "python",
   "name": "python3"
  },
  "language_info": {
   "codemirror_mode": {
    "name": "ipython",
    "version": 3
   },
   "file_extension": ".py",
   "mimetype": "text/x-python",
   "name": "python",
   "nbconvert_exporter": "python",
   "pygments_lexer": "ipython3",
   "version": "3.6.7"
  }
 },
 "nbformat": 4,
 "nbformat_minor": 2
}
