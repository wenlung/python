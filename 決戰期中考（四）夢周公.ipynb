{
 "cells": [
  {
   "cell_type": "markdown",
   "metadata": {},
   "source": [
    "# 決戰期中考（四）夢周公"
   ]
  },
  {
   "cell_type": "markdown",
   "metadata": {},
   "source": [
    "Description\n",
    "\n",
    "「誒嘿嘿～年輕人～來～」一個上古衣著、白鬚鬑鬑的老爺爺對我招招手\n",
    "\n",
    "我揉揉眼睛 定神一看⋯⋯咦咦咦咦咦咦 這該不會是傳說中的周公！！！\n",
    "\n",
    "「來吧 年輕人～陪我看看星象」他拍拍身旁的竹蓆\n",
    "\n",
    "「呃呃⋯⋯可以⋯⋯不要嗎⋯⋯」我小聲的說\n",
    "\n",
    "「如果你不陪我，我就不讓你起床，明天的英文考試就讓你遲到！！！」周公燦笑\n",
    "\n",
    "可真是陰險的老人家啊⋯⋯ \n",
    "\n",
    "周公正要記錄星象 完成他的畢生經典\n",
    "\n",
    "代替學弟幫周公整理吧～好讓學弟可以趕緊逃離惡夢\n",
    "\n",
    "不讓睡前的努力白費了！！！\n",
    "\n",
    "\n",
    "Input\n",
    "\n",
    "每個input都是一個4X4的矩陣\n",
    "\n",
    "裡頭由不同符號組成（符號共有四種：+ - * %）\n",
    "\n",
    "\n",
    "Output\n",
    "\n",
    "首先，印出矩陣裡由幾種符號組成。\n",
    "\n",
    "再來，個別印出不同符號的個數，順序請依照符號順序 +(add) -(min) *(multi) % (div)\n",
    "\n",
    "（倘若不存在於該矩陣的符號則不需印出，故輸出行數不定）\n",
    "\n",
    "\n"
   ]
  },
  {
   "cell_type": "code",
   "execution_count": 1,
   "metadata": {},
   "outputs": [
    {
     "name": "stdout",
     "output_type": "stream",
     "text": [
      "* * * %\n",
      "* * % %\n",
      "* % % %\n",
      "% % % %\n",
      "2\n",
      "multi: 6\n",
      "div: 10\n"
     ]
    }
   ],
   "source": [
    "a = input().split()\n",
    "b = input().split()\n",
    "c = input().split()\n",
    "d = input().split()\n",
    "e = a+b+c+d\n",
    "i=0\n",
    "if '+' in e:\n",
    "    i+=1\n",
    "if '-' in e:\n",
    "    i+=1\n",
    "if '*' in e:\n",
    "    i+=1\n",
    "if '%' in e:\n",
    "    i+=1\n",
    "print(i)\n",
    "\n",
    "if '+' in e:\n",
    "    print('add:', e.count('+'))\n",
    "if '-' in e:\n",
    "    print('min:', e.count('-'))\n",
    "if '*' in e:\n",
    "    print('multi:', e.count('*'))\n",
    "if '%' in e:\n",
    "    print('div:', e.count('%'))"
   ]
  },
  {
   "cell_type": "code",
   "execution_count": null,
   "metadata": {},
   "outputs": [],
   "source": []
  }
 ],
 "metadata": {
  "kernelspec": {
   "display_name": "Python 3",
   "language": "python",
   "name": "python3"
  },
  "language_info": {
   "codemirror_mode": {
    "name": "ipython",
    "version": 3
   },
   "file_extension": ".py",
   "mimetype": "text/x-python",
   "name": "python",
   "nbconvert_exporter": "python",
   "pygments_lexer": "ipython3",
   "version": "3.6.7"
  }
 },
 "nbformat": 4,
 "nbformat_minor": 2
}
