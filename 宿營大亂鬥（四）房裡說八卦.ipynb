{
 "cells": [
  {
   "cell_type": "markdown",
   "metadata": {},
   "source": [
    "# 宿營大亂鬥（四）房裡說八卦"
   ]
  },
  {
   "cell_type": "markdown",
   "metadata": {},
   "source": [
    "Description\n",
    "\n",
    "今天活動終於結束了！開完檢討會後，我想說小隊員們應該都差不多洗好澡，所以就去學妹那裡查房，確認他們都沒問題。\n",
    "\n",
    "殊不知學妹們邀請我進去吃吃零食 聊聊天⋯⋯\n",
    "\n",
    "「誒誒學姊～你不覺得OOO學長很帥嗎？」我們隊上學妹一臉陶醉地說\n",
    "\n",
    "「不！！！明明是OOO比較帥，他看起來很暖耶」馬上就有另一位學妹發難\n",
    "\n",
    "雖然內心翻起驚濤駭浪的白眼，可還是想預測一下這次宿營會cp幾對。\n",
    "\n",
    "請依據學妹的談話內容，來計算該學長與學妹之間的好感度吧\n",
    "\n",
    "首先，好感度在25~30之間，表示他們會成為cp\n",
    "\n",
    "再來，好感度在21~24之間，表示他們有機會 有機會\n",
    "\n",
    "最後，好感度在20（包含）以下，表示他們沒機會\n",
    "\n",
    "\n",
    "Input\n",
    "\n",
    "由於一個房間睡四個女生，所以輸入有四行\n",
    "\n",
    "每一行依序會有「學妹所認為該學長的各項指標度量」（前四項）以及「你認知中該學長會喜歡嗎」（第五項）：\n",
    "\n",
    "學長的氣質度  學長的體貼度  學長的幽默程度   學妹個人喜好程度   學長對學妹有興趣的程度      \n",
    "\n",
    "把以下指標加一起就是好感度了\n",
    "\n",
    "\n",
    "Output\n",
    "\n",
    "輸出會有三行，分別是：\n",
    "\n",
    "CP Ｘ \n",
    "\n",
    "chance Y \n",
    "\n",
    "without chance Z \n",
    "\n",
    "（X Y Z 皆為數字）"
   ]
  },
  {
   "cell_type": "code",
   "execution_count": 1,
   "metadata": {},
   "outputs": [
    {
     "name": "stdout",
     "output_type": "stream",
     "text": [
      "5 4 3 10 5  \n",
      "2 7 3 3 9  \n",
      "6 6 7 9 -10   \n",
      "7 2 5 6 0      \n",
      "CP 1\n",
      "chance 1\n",
      "without chance 2\n"
     ]
    }
   ],
   "source": [
    "w = input()\n",
    "x = input()\n",
    "y = input()\n",
    "z = input()\n",
    "W=w.split()\n",
    "X=x.split()\n",
    "Y=y.split()\n",
    "Z=z.split()\n",
    "K = [1,2,3,4]\n",
    "K[0] = int(W[0])+ int(W[1])+ int(W[2])+ int(W[3])+int(W[4])\n",
    "K[1] = int(X[0])+ int(X[1])+ int(X[2])+ int(X[3])+int(X[4])\n",
    "K[2] = int(Y[0])+ int(Y[1])+ int(Y[2])+ int(Y[3])+int(Y[4])\n",
    "K[3] = int(Z[0])+ int(Z[1])+ int(Z[2])+ int(Z[3])+int(Z[4])\n",
    "p = 0\n",
    "k = 0\n",
    "q = 0\n",
    "for i in K :\n",
    "    if 25<=i<=30 :\n",
    "        p+=1\n",
    "    elif 21<=i<=24:\n",
    "        k+=1\n",
    "    else :\n",
    "        q+=1\n",
    "print(\"CP\",p)\n",
    "print(\"chance\",k)\n",
    "print(\"without chance\",q)"
   ]
  },
  {
   "cell_type": "code",
   "execution_count": null,
   "metadata": {},
   "outputs": [],
   "source": []
  }
 ],
 "metadata": {
  "kernelspec": {
   "display_name": "Python 3",
   "language": "python",
   "name": "python3"
  },
  "language_info": {
   "codemirror_mode": {
    "name": "ipython",
    "version": 3
   },
   "file_extension": ".py",
   "mimetype": "text/x-python",
   "name": "python",
   "nbconvert_exporter": "python",
   "pygments_lexer": "ipython3",
   "version": "3.6.7"
  }
 },
 "nbformat": 4,
 "nbformat_minor": 2
}
