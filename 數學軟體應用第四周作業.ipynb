{
 "cells": [
  {
   "cell_type": "code",
   "execution_count": 1,
   "metadata": {},
   "outputs": [],
   "source": [
    "%matplotlib inline"
   ]
  },
  {
   "cell_type": "markdown",
   "metadata": {},
   "source": [
    "# 政大怪談(一)後山馬腳\n",
    "後山馬腳，是我在政大聽到的第一個鬼故事。\n",
    "\n",
    "大一的某天晚上我睡不著，想說到後山買個宵夜。下山的時後經過銅像，突然想看看午夜十二點--銅像背面是不是真的有「投幣孔」。\n",
    "\n",
    "正當我靠近時，赫然發現一個隱約的黑影在上面\n",
    "\n",
    "踮腳一看，竟然有個兩公分的扁洞在上面！！！我立馬從口袋掏出銅板，但因為太驚訝了⋯⋯所以手滑地把所有銅板丟進去⋯⋯  \n",
    "\n",
    "等等⋯⋯照這個情況⋯⋯ 馬會做什麼⋯⋯ 請學長姐告訴我！\n",
    "\n",
    "十塊錢 馬會換腳\n",
    "\n",
    "三十塊錢 蔣公會親自下馬\n",
    "\n",
    "五十塊錢 馬會帶你逛校園一週"
   ]
  },
  {
   "cell_type": "code",
   "execution_count": 8,
   "metadata": {},
   "outputs": [
    {
     "name": "stdout",
     "output_type": "stream",
     "text": [
      "五十塊錢的個數2\n",
      "十塊錢的個數1\n",
      "五塊錢的個數4\n",
      "一塊錢的個數5\n",
      "可以看到 13 次馬換腳\n",
      "可以看到 4 次蔣公下馬\n",
      "可以體驗 2 次繞行校園\n"
     ]
    }
   ],
   "source": [
    "a=input(\"五十塊錢的個數\")\n",
    "a=int(a)\n",
    "a1=50*a\n",
    "b=input(\"十塊錢的個數\")\n",
    "b=int(b)\n",
    "b1=10*b\n",
    "c=input(\"五塊錢的個數\")\n",
    "c=int(c)\n",
    "c1=5*c\n",
    "d=input(\"一塊錢的個數\")\n",
    "d=int(d)\n",
    "d1=1*d\n",
    "\n",
    "j=(a1+b1+c1+d1)//10\n",
    "print(\"可以看到\",j,\"次馬換腳\")\n",
    "q=(a1+b1+c1+d1)//30\n",
    "print(\"可以看到\",q,\"次蔣公下馬\")\n",
    "k=(a1+b1+c1+d1)//50\n",
    "print(\"可以體驗\",k,\"次繞行校園\")"
   ]
  },
  {
   "cell_type": "markdown",
   "metadata": {},
   "source": [
    "## 政大怪談(二)綜院迷宮\n",
    "大家都知道，綜院有分南北棟吧？ 這樣的格局，對比其他校內建築來說，顯得有些特殊； 網路上，似乎找不到是哪位建築師的作品。\n",
    "\n",
    "有同學傳說，它是以「反八卦」的方式設計的； 還有人遙傳89年落成時，有精通茅山術的某系教授受邀作法… 無論實情如何，它的建築複雜度是不容忽視的。 偶而有同學會戲稱，綜院如此的構造，似乎很容易讓人被「鬼擋牆」。 \n",
    "\n",
    "若是白天也罷，但如果晚上，甚至深夜， 在綜院迷路，似乎是一件相當恐怖的事呢… （修改自 PPT NCCU板）\n",
    "\n",
    "今天講師講得特別起勁，加上要處理社團的事，所以待的特別晚⋯⋯\n",
    "\n",
    "沒想到我十點半出來，除了逃生出口發出綠色詭譎的光外，我什麼都看不到，只好憑記憶找樓梯電梯下去\n",
    "\n",
    "突然有股感覺流過我的大腦，奇怪⋯⋯我記得剛剛就有經過這台飲水機啊⋯⋯但電梯呢？\n",
    "\n",
    "有這樣的傳言：\n",
    "\n",
    "能找到電梯或是管理員在於要如何逃離結界\n",
    "\n",
    "將看到的消防栓數和飲水機數相除\n",
    "\n",
    "得到的小數點後兩位就是關鍵"
   ]
  },
  {
   "cell_type": "code",
   "execution_count": 9,
   "metadata": {},
   "outputs": [
    {
     "name": "stdout",
     "output_type": "stream",
     "text": [
      "消防栓數13\n",
      "飲水機數4\n",
      "3.25\n",
      "逆時鐘方向繞行綜院的次數 2\n",
      "順時鐘方向繞行綜院的次數 5\n"
     ]
    }
   ],
   "source": [
    "a=input(\"消防栓數\")\n",
    "a=int(a)\n",
    "b=input(\"飲水機數\")\n",
    "b=int(b)\n",
    "\n",
    "\n",
    "c=round(a/b,2)\n",
    "print(c)\n",
    "d=c*10\n",
    "d1=int(c)*10\n",
    "print(\"逆時鐘方向繞行綜院的次數\",int(d-d1))\n",
    "e=c*100\n",
    "e1=int(c*10)*10\n",
    "print(\"順時鐘方向繞行綜院的次數\",int(e-e1))"
   ]
  },
  {
   "cell_type": "markdown",
   "metadata": {},
   "source": [
    "## 政大怪談(三)國際大樓電梯\n",
    "今天一如往常帶著晚餐回自九，想在宿舍一邊追劇一邊吃晚餐\n",
    "\n",
    "熟門熟路地走進國際大樓按了上樓鍵，就很自然地走進去，可是電梯小姐說的卻不是「電梯上樓」 而是... 歡迎光臨 ！！！ \n",
    "\n",
    "但樓層我已經按下去了⋯⋯慘了，我出得去嗎⋯⋯ （修改自 PPT marvel版）\n",
    "\n",
    "告訴學弟（妹）要怎麼誠心誠意地讓鬼放過他吧！"
   ]
  },
  {
   "cell_type": "code",
   "execution_count": 11,
   "metadata": {},
   "outputs": [
    {
     "name": "stdout",
     "output_type": "stream",
     "text": [
      "這個學弟（妹）的名字 他（她）要到的樓層Maggie 4\n",
      "Hi,I'm Maggie.Please let me go.I want to go to 4 F.\n"
     ]
    }
   ],
   "source": [
    "a,b =input(\"這個學弟（妹）的名字 他（她）要到的樓層\").split(' ')\n",
    "\n",
    "print(\"Hi,I'm \"+ a+\".\"+\"Please let me go.I want to go to \" +b+\" F.\")"
   ]
  },
  {
   "cell_type": "markdown",
   "metadata": {},
   "source": [
    "## 政大怪談(四)消失的房間\n",
    "相傳多年前在自六舍有一位男性華僑生，有先天的心臟病。寒假過年他的室友們都回家了，但這位僑生不知道為什麼沒有回家，寒假就住在宿舍裡面。體弱的他⋯⋯，等到寒假結束⋯⋯室友才發現死亡已久的僑生。為了不讓這位僑生的魂魄找到舊房，騷擾之後住在這間房的同學。除了床架貼上符咒外，學校還打亂該樓層的房號⋯⋯\n",
    "\n",
    "究竟是哪間房說實在的沒人確定，但我們這層樓的確不是連號，這讓我挺在意的呢⋯⋯\n",
    "\n",
    "另有一個線索說這間房間靠近廁所，所以請偷偷告訴這位學弟這層樓原來的樣貌\n",
    "\n",
    "利用周圍房號的平均就可以找到這個僑生當年住的房間⋯⋯"
   ]
  },
  {
   "cell_type": "code",
   "execution_count": 12,
   "metadata": {},
   "outputs": [
    {
     "name": "stdout",
     "output_type": "stream",
     "text": [
      "第一間房號5114\n",
      "第二間房號5117\n",
      "第三間房號5118\n",
      "第四間房號5115\n",
      "5114->5117->5118->5115->僑生當年的房間->5116\n"
     ]
    }
   ],
   "source": [
    "a=input(\"第一間房號\")\n",
    "b=input(\"第二間房號\")\n",
    "c=input(\"第三間房號\")\n",
    "d=input(\"第四間房號\")\n",
    "a=int(a)\n",
    "b=int(b)\n",
    "c=int(c)\n",
    "d=int(d)\n",
    "e=(a+b+c+d)/4\n",
    "e=int(e)\n",
    "print(a,b,c,d,\"僑生當年的房間\",e,sep=\"->\")"
   ]
  },
  {
   "cell_type": "code",
   "execution_count": null,
   "metadata": {},
   "outputs": [],
   "source": []
  }
 ],
 "metadata": {
  "kernelspec": {
   "display_name": "Python 3",
   "language": "python",
   "name": "python3"
  },
  "language_info": {
   "codemirror_mode": {
    "name": "ipython",
    "version": 3
   },
   "file_extension": ".py",
   "mimetype": "text/x-python",
   "name": "python",
   "nbconvert_exporter": "python",
   "pygments_lexer": "ipython3",
   "version": "3.6.7"
  }
 },
 "nbformat": 4,
 "nbformat_minor": 2
}
