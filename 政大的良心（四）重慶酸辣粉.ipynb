{
 "cells": [
  {
   "cell_type": "markdown",
   "metadata": {},
   "source": [
    "# 政大的良心（四）重慶酸辣粉\n"
   ]
  },
  {
   "cell_type": "markdown",
   "metadata": {},
   "source": [
    "Description\n",
    "\n",
    "我只能說那個酸辣有可能是天然的啦，衛生程度超過一百分，\n",
    "\n",
    "分量雖然少但精華絕對是湯底的那個天然酸辣，你的腸胃一定很感謝你對他們這麼好。\n",
    "\n",
    "大家平時還是挺喜歡去挑戰一下酸辣粉，但是每次要跟店員確認餐點內容就覺得很崩潰\n",
    "\n",
    "酸度、辣度、要粉還是王子麵每個人都不一樣，我不管了啦⋯⋯\n",
    "\n",
    "今天請幫學弟依照酸度來進行排序～\n",
    "\n",
    "\n",
    "Input\n",
    "\n",
    "行數不限。\n",
    "\n",
    "每行會有名字、酸度、辣度。\n",
    "\n",
    "\n",
    "Output\n",
    "\n",
    "行數同input行數\n",
    "\n",
    "每行會有名字、酸度、辣度。\n",
    "\n",
    "（output順序為酸度由小到大）"
   ]
  },
  {
   "cell_type": "code",
   "execution_count": 1,
   "metadata": {},
   "outputs": [
    {
     "name": "stdout",
     "output_type": "stream",
     "text": [
      "Wala 4 4\n",
      "John 1 5\n",
      "Darar 3 2\n",
      "\n",
      "John 1 5\n",
      "Darar 3 2\n",
      "Wala 4 4\n"
     ]
    }
   ],
   "source": [
    "try:\n",
    "    a=[]\n",
    "    while True:\n",
    "        s=input().split()\n",
    "        if s==[]:\n",
    "            break\n",
    "        s[1]=int(s[1])    \n",
    "        a.append(s)   \n",
    "\n",
    "    a = sorted(a, key=lambda x: x[1])\n",
    "    for i in a:\n",
    "        print(i[0],i[1],i[2])\n",
    "except EOFError:\n",
    "    pass"
   ]
  },
  {
   "cell_type": "code",
   "execution_count": null,
   "metadata": {},
   "outputs": [],
   "source": []
  }
 ],
 "metadata": {
  "kernelspec": {
   "display_name": "Python 3",
   "language": "python",
   "name": "python3"
  },
  "language_info": {
   "codemirror_mode": {
    "name": "ipython",
    "version": 3
   },
   "file_extension": ".py",
   "mimetype": "text/x-python",
   "name": "python",
   "nbconvert_exporter": "python",
   "pygments_lexer": "ipython3",
   "version": "3.6.7"
  }
 },
 "nbformat": 4,
 "nbformat_minor": 2
}
