{
 "cells": [
  {
   "cell_type": "markdown",
   "metadata": {},
   "source": [
    "# 政大的良心（一）大汗打卡"
   ]
  },
  {
   "cell_type": "markdown",
   "metadata": {},
   "source": [
    "Description\n",
    "\n",
    "大汗是傳說中吃下去流出來的汗絕對不是健康的，說到這個之前FB打卡送甜不辣，偉哉助教的朋友天天吃天天打卡，吃到自己媽媽在底下銃康，叫他吃一點正常的，他不聽，結果現在快可以送去動物園關起來了。\n",
    "\n",
    "取自：\n",
    "\n",
    "https://www.dcard.tw/f/nccu/p/232387914?ref=ios&fbclid=IwAR0PvzmZfvcAaZiBpbOvCdJbXOYqM4NK4z8UGB2BMtbinZCcDnPnNOK_p-o\n",
    "\n",
    "為了怕大家甜不辣吃膩了，櫃檯姊姊總是會每個禮拜換一個活動，\n",
    "\n",
    "所以每個月初，她都會看一下月曆，然而這個禮拜她卻找不到他的月曆⋯⋯\n",
    "\n",
    "所以 請大家印個月曆給她吧～\n",
    "\n",
    "\n",
    "Input\n",
    "\n",
    "input會有兩行。第一行為年份，第二行為月份。\n",
    "\n",
    "\n",
    "Output\n",
    "\n",
    "用datetime模組當中的函式印出，行數視該月週數。\n",
    "\n",
    "下方output格式僅供參考，實際格式依模組印出的結果。"
   ]
  },
  {
   "cell_type": "code",
   "execution_count": 2,
   "metadata": {},
   "outputs": [
    {
     "name": "stdout",
     "output_type": "stream",
     "text": [
      "2019\n",
      "8\n",
      "    August 2019\n",
      "Mo Tu We Th Fr Sa Su\n",
      "          1  2  3  4\n",
      " 5  6  7  8  9 10 11\n",
      "12 13 14 15 16 17 18\n",
      "19 20 21 22 23 24 25\n",
      "26 27 28 29 30 31\n",
      "\n"
     ]
    }
   ],
   "source": [
    "import calendar\n",
    "\n",
    "\n",
    "try:\n",
    "    year = int(input())\n",
    "    month = int(input())\n",
    "    print(calendar.month(year,month))\n",
    "except ValueError:\n",
    "    print('Your date is fault')\n"
   ]
  },
  {
   "cell_type": "code",
   "execution_count": null,
   "metadata": {},
   "outputs": [],
   "source": []
  }
 ],
 "metadata": {
  "kernelspec": {
   "display_name": "Python 3",
   "language": "python",
   "name": "python3"
  },
  "language_info": {
   "codemirror_mode": {
    "name": "ipython",
    "version": 3
   },
   "file_extension": ".py",
   "mimetype": "text/x-python",
   "name": "python",
   "nbconvert_exporter": "python",
   "pygments_lexer": "ipython3",
   "version": "3.6.7"
  }
 },
 "nbformat": 4,
 "nbformat_minor": 2
}
