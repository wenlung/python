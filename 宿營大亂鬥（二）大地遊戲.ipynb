{
 "cells": [
  {
   "cell_type": "markdown",
   "metadata": {},
   "source": [
    "# 宿營大亂鬥（二）大地遊戲"
   ]
  },
  {
   "cell_type": "markdown",
   "metadata": {},
   "source": [
    "Description\n",
    "\n",
    "哇 太陽好大……我們就這樣沒有遮掩的走到草地中央看來有個角色在等我們\n",
    "\n",
    "「關主好~~~~」\n",
    "\n",
    "「你們是第幾小隊?」\n",
    "\n",
    "「三~」好奇怪……這關什麼道具都沒有\n",
    "\n",
    "我們要玩什麼呢??\n",
    "規則:\n",
    "總共會有四種輸入分別是\n",
    "\n",
    "sweet cake\n",
    "\n",
    "smelly popo\n",
    "\n",
    "you eat\n",
    "\n",
    "i eat\n",
    "\n",
    "總共兩人PK，每人分別會輸入其中一句話，若是結合起來是蛋糕你吃，或是便便我吃，需要去辨別是誰吃到好的或吃到壞的。吃到好的人贏，吃到壞的人輸，以此類推會有四種情況得到輸贏結果。但相對的若是兩人輸出同為食物，抑或是同為對象，則沒有結論，視為平局。\n",
    "\n",
    "輸入時字母大小寫隨機，請注意喔!\n",
    "\n",
    "Input\n",
    "\n",
    "輸入有兩行\n",
    "\n",
    "第一行為一號玩家(Player1)\n",
    "\n",
    "第二行為二號玩家(Player2)\n",
    "\n",
    "每一行分別會有兩個單字\n",
    "\n",
    "每個單字的皆有可能用大小寫的方式呈現\n",
    "\n",
    "總共會有四種input組合\n",
    "\n",
    "sweet cake,smelly popo,you eat,i eat\n",
    "\n",
    "\n",
    "Output\n",
    "\n",
    "一號玩家勝利 輸出:Player1 win!\n",
    "\n",
    "二號玩家勝利 輸出:Player2 win!\n",
    "\n",
    "平手的話 輸出:No winner!\n",
    "\n",
    "\n"
   ]
  },
  {
   "cell_type": "code",
   "execution_count": 1,
   "metadata": {},
   "outputs": [
    {
     "name": "stdout",
     "output_type": "stream",
     "text": [
      "swEEt Cake\n",
      "yoU Eat\n",
      "Player1 win!\n"
     ]
    }
   ],
   "source": [
    "player1=input()\n",
    "player2=input()\n",
    "play1=[player1.lower()]\n",
    "play2=[player2.lower()]\n",
    "p1=['sweet cake']\n",
    "p2=['smelly popo']\n",
    "p3=['you eat']\n",
    "p4=['i eat']\n",
    "if (play1==p4 and play2==p1) or (play1==p3 and play2==p2) or(play1==p1 and play2==p3) or (play1==p2 and play2==p4):\n",
    "    print('Player1 win!')\n",
    "elif(play1==p1 and play2==p4) or (play1==p2 and play2==p3) or(play1==p3 and play2==p1) or (play1==p4 and play2==p2):\n",
    "    print('Player2 win!')\n",
    "else:\n",
    "    print('No winner!')"
   ]
  },
  {
   "cell_type": "code",
   "execution_count": null,
   "metadata": {},
   "outputs": [],
   "source": []
  }
 ],
 "metadata": {
  "kernelspec": {
   "display_name": "Python 3",
   "language": "python",
   "name": "python3"
  },
  "language_info": {
   "codemirror_mode": {
    "name": "ipython",
    "version": 3
   },
   "file_extension": ".py",
   "mimetype": "text/x-python",
   "name": "python",
   "nbconvert_exporter": "python",
   "pygments_lexer": "ipython3",
   "version": "3.6.7"
  }
 },
 "nbformat": 4,
 "nbformat_minor": 2
}
