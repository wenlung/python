{
 "cells": [
  {
   "cell_type": "markdown",
   "metadata": {},
   "source": [
    "# 宿營大亂鬥（一）排定活動\n"
   ]
  },
  {
   "cell_type": "markdown",
   "metadata": {},
   "source": [
    "Description\n",
    "\n",
    "那天下午我學長突然密我：「學弟啊～想不想加宿營，我想了幾個人選就學弟你最適合，你要不要試試總召啊？」哇～還真不知是開心還是傷心呢～於是乎我看著學長寄給我的資料 — 一堆去年的流程跟企劃，開始規劃著今年那些開會、驗收、沙推、營期、場勘要訂在什麼時候。\n",
    "\n",
    "————\n",
    "\n",
    "幫這個學弟檢查一下，他定的時間會不會有問題（像是9月沒有31號 2月會遇到閏年⋯⋯等等）讓他可以順利公布正確的活動流程。\n",
    "\n",
    "\n",
    "Input\n",
    "\n",
    "由於日期有年月日，所以有三個輸入第一個為年，第二個為月，第三個為日期要注意的是閏月問題2月會有29天或是某幾個月份日期會有31天之類的\n",
    "\n",
    "\n",
    "Output\n",
    "\n",
    "需要輸出的output為布林值只需要輸出False或True即可分別代表不會有的日期，和會出現的日期"
   ]
  },
  {
   "cell_type": "code",
   "execution_count": 1,
   "metadata": {},
   "outputs": [
    {
     "name": "stdout",
     "output_type": "stream",
     "text": [
      "2019\n",
      "8\n",
      "31\n",
      "True\n"
     ]
    }
   ],
   "source": [
    "y=int(input())\n",
    "m=int(input())\n",
    "d=int(input())\n",
    "def egg(y, m , d):\n",
    "    if (m in [m==1,3,5,7,8,10,12]) and (d in range(1,32)):\n",
    "        print(True)\n",
    "    elif (m in [m==4,6,9,11]) and (d in range(1,31)):\n",
    "        print(True)\n",
    "    elif (([y%4==0] and [y%100!=0]) or [y%400==0]) and (m==2) and (d in range(1,30)):\n",
    "        print(True)\n",
    "    elif  ([y%4!=0] or([y%100==0] and [y%400!=0])) and (m in [m==2]) and (d in range(1,29)):\n",
    "        print(True)\n",
    "    else:\n",
    "        print(False)\n",
    "egg(y,m,d)"
   ]
  },
  {
   "cell_type": "code",
   "execution_count": null,
   "metadata": {},
   "outputs": [],
   "source": []
  }
 ],
 "metadata": {
  "kernelspec": {
   "display_name": "Python 3",
   "language": "python",
   "name": "python3"
  },
  "language_info": {
   "codemirror_mode": {
    "name": "ipython",
    "version": 3
   },
   "file_extension": ".py",
   "mimetype": "text/x-python",
   "name": "python",
   "nbconvert_exporter": "python",
   "pygments_lexer": "ipython3",
   "version": "3.6.7"
  }
 },
 "nbformat": 4,
 "nbformat_minor": 2
}
