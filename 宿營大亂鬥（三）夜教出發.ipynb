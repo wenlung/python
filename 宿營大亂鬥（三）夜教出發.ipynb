{
 "cells": [
  {
   "cell_type": "markdown",
   "metadata": {},
   "source": [
    "# 宿營大亂鬥（三）夜教出發"
   ]
  },
  {
   "cell_type": "markdown",
   "metadata": {},
   "source": [
    "Description\n",
    "\n",
    "不知道為什麼吃完晚餐後，學長姐們的臉色很難看，特別嚇人的那種。\n",
    "\n",
    "一直到剛剛我們被帶到營本，那個氛圍立刻就讓我理解到--要夜教了。\n",
    "\n",
    "天啊⋯⋯我最怕夜教了⋯⋯\n",
    "\n",
    "一路上燈光昏暗 不久就見到披頭散髮的鬼（學姊？）聲嘶力竭的大喊：\n",
    "\n",
    "「我好痛⋯⋯我好痛⋯⋯你們可以幫幫我嗎⋯⋯」\n",
    "\n",
    "大家安靜的不敢吭一聲\n",
    "\n",
    "「到底要不要幫！！！！」\n",
    "\n",
    "分貝突然飆高，大家也跟著抖了好大一下\n",
    "\n",
    "「要⋯⋯」\n",
    "\n",
    "我小小聲的說著\n",
    "\n",
    "請幫助這個已經要被嚇暈的學弟回答問題：\n",
    "\n",
    "括弧內是他要回答的內容。\n",
    "\n",
    "\n",
    "Input\n",
    "\n",
    "輸入會是一句話（一個字串）\n",
    "\n",
    "\n",
    "Output\n",
    "\n",
    "輸出是< >中的內容"
   ]
  },
  {
   "cell_type": "code",
   "execution_count": 1,
   "metadata": {},
   "outputs": [
    {
     "name": "stdout",
     "output_type": "stream",
     "text": [
      "Am I <pretty> look\n",
      "pretty\n"
     ]
    }
   ],
   "source": [
    "t=input()\n",
    "a=t.find('<')\n",
    "b=t.find('>')\n",
    "print(t[a+1:b])"
   ]
  },
  {
   "cell_type": "code",
   "execution_count": null,
   "metadata": {},
   "outputs": [],
   "source": []
  }
 ],
 "metadata": {
  "kernelspec": {
   "display_name": "Python 3",
   "language": "python",
   "name": "python3"
  },
  "language_info": {
   "codemirror_mode": {
    "name": "ipython",
    "version": 3
   },
   "file_extension": ".py",
   "mimetype": "text/x-python",
   "name": "python",
   "nbconvert_exporter": "python",
   "pygments_lexer": "ipython3",
   "version": "3.6.7"
  }
 },
 "nbformat": 4,
 "nbformat_minor": 2
}
