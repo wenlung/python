{
 "cells": [
  {
   "cell_type": "markdown",
   "metadata": {},
   "source": [
    "# 決戰期中考（三）挑夜燈"
   ]
  },
  {
   "cell_type": "markdown",
   "metadata": {},
   "source": [
    "Description\n",
    "\n",
    "於是剛不小心跟室友A打了兩場傳說⋯⋯\n",
    "\n",
    "現在想想超級無敵後悔，我忘了明天要考法文啊啊啊啊\n",
    "\n",
    "蠢蛋如我，竟然以為自己已經讀完了⋯⋯\n",
    "\n",
    "這一定是老天爺在懲罰我（哭腔）\n",
    "\n",
    "可也沒別的辦法了 只能拼了！！！！\n",
    "\n",
    "雖然這學弟可說是自作自受\n",
    "\n",
    "但還是幫他整理一下 明天要考的單字好了\n",
    "\n",
    "整理單字本，顧名思義是幫他「把課本的單字抄進去」\n",
    "\n",
    "至於 過於簡單或是「不重要的單字把它從單字本裡刪掉」\n",
    "\n",
    "最後，考考他裡頭的單字會不會拼。\n",
    "\n",
    "\n",
    "Input\n",
    "\n",
    "我們的操作模式有四種：insert（插入新單字） delete（刪除單字） test （考學弟）exit（離開）\n",
    "\n",
    "insert 後面會接有英文單字 再來是法文單字\n",
    "\n",
    "至於 delete test 後面只會接有英文單字，至於原是法文單字的空格 以None進行填充\n",
    "\n",
    "exit後面則不接有任何單字 故 英文單字、法文單字的位置都以None填充 \n",
    "\n",
    "\n",
    "\n",
    "字典的索引值為英文字串，其對應的值是法文字串，請把下方字典放入程式裡頭，作為學弟的單字本：\n",
    "\n",
    "dict1 = {'dog': 'chien', 'cat': 'chat', 'rabbit': 'lapin', 'tiger': 'tigre', 'monkey': 'singe'}\n",
    "\n",
    "至於 輸入會有幾行，並無限制。\n",
    "\n",
    "\n",
    "Output\n",
    "\n",
    "凡是遇到insert 以及 delete 模式，做完後輸出字典裡值的個數\n",
    "\n",
    "若是test模式，則輸出「以輸入（英文）為index，其相對的（法文）value」\n",
    "\n",
    "而exit模式則離開迴圈，結束程式。"
   ]
  },
  {
   "cell_type": "code",
   "execution_count": 2,
   "metadata": {},
   "outputs": [
    {
     "name": "stdout",
     "output_type": "stream",
     "text": [
      "insert candy bonbon\n",
      "6\n",
      "insert ice-cream glace\n",
      "7\n",
      "insert chocolate chocolat\n",
      "8\n",
      "test candy None\n",
      "bonbon\n",
      "test dog None\n",
      "chien\n",
      "delete tiger None\n",
      "7\n",
      "exit None None\n"
     ]
    }
   ],
   "source": [
    "dict1 = {'dog': 'chien', 'cat': 'chat', 'rabbit': 'lapin', 'tiger': 'tigre', 'monkey': 'singe'}\n",
    "while True:\n",
    "    rowList = input().split()\n",
    "    if str(rowList[0]) == \"insert\":\n",
    "        dict1.setdefault(rowList[1], rowList[2])\n",
    "        print(len(dict1))\n",
    "    if rowList[0] == \"delete\":\n",
    "        del dict1[rowList[1]]\n",
    "        print(len(dict1))\n",
    "    if str(rowList[0]) == 'test':\n",
    "        print(dict1[rowList[1]])\n",
    "    if str(rowList[0]) == 'exit':\n",
    "        break"
   ]
  },
  {
   "cell_type": "code",
   "execution_count": null,
   "metadata": {},
   "outputs": [],
   "source": []
  }
 ],
 "metadata": {
  "kernelspec": {
   "display_name": "Python 3",
   "language": "python",
   "name": "python3"
  },
  "language_info": {
   "codemirror_mode": {
    "name": "ipython",
    "version": 3
   },
   "file_extension": ".py",
   "mimetype": "text/x-python",
   "name": "python",
   "nbconvert_exporter": "python",
   "pygments_lexer": "ipython3",
   "version": "3.6.7"
  }
 },
 "nbformat": 4,
 "nbformat_minor": 2
}
