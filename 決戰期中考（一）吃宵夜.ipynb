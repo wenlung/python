{
 "cells": [
  {
   "cell_type": "markdown",
   "metadata": {},
   "source": [
    "# 決戰期中考（一）吃宵夜"
   ]
  },
  {
   "cell_type": "markdown",
   "metadata": {},
   "source": [
    "Description\n",
    "\n",
    "「哇啊～快期中了耶！！！」我看著手機的行事曆，心裡暗自覺得不妙。\n",
    "\n",
    "一定是這學期接二連三的連假，讓我沒辦法好好唸書的但有句話說得好：\n",
    "\n",
    "You cannot improve your past, but you can improve your future. Once time is wasted, life is wasted.不如今天就下定決心開始念吧！！！\n",
    "\n",
    "「咕嚕嚕嚕～」\n",
    "\n",
    "誒嘿是肚子叫了沒吃飽就沒有力氣，這是永恆不變的真理。在今天挑燈夜戰的環節 當然是要先買宵夜啊～\n",
    "\n",
    "請同學幫助這兩位同學\n",
    "\n",
    "去看看到底哪些消夜還可以買，那些已經夠了不用再買\n",
    "\n",
    "食物總共會有十種\n",
    "\n",
    "\n",
    "Input\n",
    "\n",
    "總共會輸入兩行食物資料\n",
    "\n",
    "每一行代表一位同學買的食物\n",
    "\n",
    "食物種類很多種\n",
    "\n",
    "\n",
    "Output\n",
    "\n",
    "總共輸出兩行\n",
    "\n",
    "第一行是輸出買過的食物總和(兩位都買過算一份)(以List的型態print)(要排序)\n",
    "\n",
    "第二行則輸出還有幾樣食物沒有買過"
   ]
  },
  {
   "cell_type": "code",
   "execution_count": 1,
   "metadata": {},
   "outputs": [
    {
     "name": "stdout",
     "output_type": "stream",
     "text": [
      "tea bun cake\n",
      "cake tea bun\n",
      "['bun', 'cake', 'tea']\n",
      "7\n"
     ]
    }
   ],
   "source": [
    "a = input().split()\n",
    "b = input().split()\n",
    "a = set(a)\n",
    "b = set(b)\n",
    "c = a|b\n",
    "c = list(c)\n",
    "c.sort()\n",
    "print(c)\n",
    "d = len(c)\n",
    "print(10-d)"
   ]
  },
  {
   "cell_type": "code",
   "execution_count": null,
   "metadata": {},
   "outputs": [],
   "source": []
  }
 ],
 "metadata": {
  "kernelspec": {
   "display_name": "Python 3",
   "language": "python",
   "name": "python3"
  },
  "language_info": {
   "codemirror_mode": {
    "name": "ipython",
    "version": 3
   },
   "file_extension": ".py",
   "mimetype": "text/x-python",
   "name": "python",
   "nbconvert_exporter": "python",
   "pygments_lexer": "ipython3",
   "version": "3.6.7"
  }
 },
 "nbformat": 4,
 "nbformat_minor": 2
}
