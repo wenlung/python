{
 "cells": [
  {
   "cell_type": "markdown",
   "metadata": {},
   "source": [
    "# 決戰期中考（二）吵室友"
   ]
  },
  {
   "cell_type": "markdown",
   "metadata": {},
   "source": [
    "Description\n",
    "\n",
    "或許是我散發出認真的氛圍，今天寢室裡特別安靜，連平常很鬧事的室友A都坐在書桌前。\n",
    "\n",
    "這讓我看不順眼，他不是說都不用唸書就可以考100的嗎。我挑釁地走過去\n",
    "\n",
    "「喂 不要讀了啦～」\n",
    "\n",
    "「哎喲 過去啦」\n",
    "\n",
    "他揮揮手 示意要我走開\n",
    "\n",
    "「你就學霸啊 怕什麼啦 來打一場 敢不敢！！！」在我誘惑底下，他拿起櫃子上的手機\n",
    "\n",
    "由方格猜猜樂來決一死鬥吧\n",
    "\n",
    "如果我猜對你的格子，我就贏啦!!!\n",
    "\n",
    "\n",
    "Input\n",
    "\n",
    "第一行輸入一個數字，代表棋盤的大小(棋盤為正方形)\n",
    "\n",
    "EX如果輸入4 則為4*4大小\n",
    "\n",
    "第二行為學霸放的格子(大小不一定)\n",
    "\n",
    "第三行則是你(作答者)猜測的格子\n",
    "\n",
    "其中有一點要注意學霸輸入的是單一數字，是棋盤的位置\n",
    "\n",
    "而作答者則是輸入兩個數字為一組(分別代表y和x軸)\n",
    "\n",
    "EX:3*3格子\n",
    "\n",
    "1 2 3\n",
    "\n",
    "4 5 6\n",
    "\n",
    "7 8 9\n",
    "\n",
    "學霸輸入6等於作答者輸入(2,3)\n",
    "\n",
    "\n",
    "Output\n",
    "\n",
    "首先先輸出整個棋盤空格之後輸出是否贏得比賽\n",
    "\n",
    "贏比賽輸出\"I finally win.\"\n",
    "\n",
    "輸比賽輸出\"I lost both my coursework and my life.\""
   ]
  },
  {
   "cell_type": "code",
   "execution_count": 1,
   "metadata": {},
   "outputs": [
    {
     "name": "stdout",
     "output_type": "stream",
     "text": [
      "5\n",
      "23 22 20\n",
      "2 3 3 3 2 4\n",
      "1 2 3 4 5 \n",
      "6 7 8 9 10 \n",
      "11 12 13 14 15 \n",
      "16 17 18 19 20 \n",
      "21 22 23 24 25 \n",
      "I lost both my coursework and my life.\n"
     ]
    }
   ],
   "source": [
    "a = int(input())\n",
    "b = input().split()\n",
    "b = set(b)\n",
    "c = input().split()\n",
    "k = 0\n",
    "s =set()\n",
    "for i in range(a):\n",
    "    for j in range(a):\n",
    "        k+=1\n",
    "        print(k, end=' ')\n",
    "    print()\n",
    "    \n",
    "for i in range(0, len(c),2):\n",
    "    c1 = int(c[i])\n",
    "    c2 = int(c[i+1])\n",
    "    t = (c1-1)*a+c2\n",
    "    s.add(str(t))\n",
    "if s&b:\n",
    "    print(\"I finally win.\")\n",
    "else:\n",
    "    print(\"I lost both my coursework and my life.\")"
   ]
  },
  {
   "cell_type": "code",
   "execution_count": null,
   "metadata": {},
   "outputs": [],
   "source": []
  }
 ],
 "metadata": {
  "kernelspec": {
   "display_name": "Python 3",
   "language": "python",
   "name": "python3"
  },
  "language_info": {
   "codemirror_mode": {
    "name": "ipython",
    "version": 3
   },
   "file_extension": ".py",
   "mimetype": "text/x-python",
   "name": "python",
   "nbconvert_exporter": "python",
   "pygments_lexer": "ipython3",
   "version": "3.6.7"
  }
 },
 "nbformat": 4,
 "nbformat_minor": 2
}
